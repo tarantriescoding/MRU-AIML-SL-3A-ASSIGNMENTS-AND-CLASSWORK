{
 "cells": [
  {
   "cell_type": "code",
   "execution_count": 1,
   "id": "3b9bf30b-cece-404c-b19b-6f53458c5aec",
   "metadata": {},
   "outputs": [
    {
     "name": "stdout",
     "output_type": "stream",
     "text": [
      "[0, 1, 1, 2, 3, 5]\n"
     ]
    }
   ],
   "source": [
    "#QUES- 1 - Write a function to generate the first n Fibonacci numbers using a loop. For example, if n = 6, the output should be [0, 1, 1, 2, 3, 5].\n",
    "def generate_fibonacci(n):\n",
    "    if n <= 0:\n",
    "        return []\n",
    "\n",
    "    fibonacci_sequence = [0] * n \n",
    "\n",
    "    if n > 1:\n",
    "        fibonacci_sequence[1] = 1\n",
    "\n",
    "    for i in range(2, n):\n",
    "        fibonacci_sequence[i] = fibonacci_sequence[i-1] + fibonacci_sequence[i-2]\n",
    "\n",
    "    return fibonacci_sequence\n",
    "n = 6\n",
    "print(generate_fibonacci(n))\n"
   ]
  },
  {
   "cell_type": "code",
   "execution_count": 2,
   "id": "1d0c50c5-a715-4b0d-84a7-705a56625918",
   "metadata": {},
   "outputs": [
    {
     "name": "stdout",
     "output_type": "stream",
     "text": [
      "120\n"
     ]
    }
   ],
   "source": [
    "#QUES- 2 - Write a function to compute the factorial of a given number using a loop. For example, factorial(5) should return 120.\n",
    "def factorial(n):\n",
    "    if n < 0:\n",
    "        return None \n",
    "\n",
    "    result = 1\n",
    "    for i in range(2, n + 1):\n",
    "        result *= i\n",
    "\n",
    "    return result\n",
    "\n",
    "n = 5\n",
    "print(factorial(n))"
   ]
  },
  {
   "cell_type": "code",
   "execution_count": 3,
   "id": "f13ae830-f63a-40ad-8d27-aa1eb67424ac",
   "metadata": {},
   "outputs": [
    {
     "name": "stdout",
     "output_type": "stream",
     "text": [
      "10\n"
     ]
    }
   ],
   "source": [
    "#QUES- 3 - Write a function that takes an integer and returns the sum of its digits. For example, for the number 1234, the output should be 10 (1 + 2 + 3 + 4).\n",
    "def sum_of_digits(n):\n",
    "    n = abs(n)\n",
    "    total = 0\n",
    "\n",
    "    while n > 0:\n",
    "        total += n % 10 \n",
    "        n //= 10\n",
    "    return total\n",
    "\n",
    "number = 1234\n",
    "print(sum_of_digits(number))\n"
   ]
  },
  {
   "cell_type": "code",
   "execution_count": 4,
   "id": "79a51dda-8e80-4889-87d8-ca7892cac368",
   "metadata": {},
   "outputs": [
    {
     "name": "stdout",
     "output_type": "stream",
     "text": [
      "True\n",
      "False\n"
     ]
    }
   ],
   "source": [
    "#QUES- 4 - Write a function to check if a given number is prime using a loop. For example, is_prime(29) should return True, and is_prime(10) should return False.\n",
    "def is_prime(n):\n",
    "    if n <= 1:\n",
    "        return False\n",
    "\n",
    "    for i in range(2, int(n ** 0.5) + 1):\n",
    "        if n % i == 0:\n",
    "            return False\n",
    "\n",
    "    return True\n",
    "\n",
    "print(is_prime(29))\n",
    "print(is_prime(10))\n"
   ]
  },
  {
   "cell_type": "code",
   "execution_count": 5,
   "id": "000f5f3d-fd20-4159-84ba-a44341d85826",
   "metadata": {},
   "outputs": [
    {
     "name": "stdout",
     "output_type": "stream",
     "text": [
      "olleh\n"
     ]
    }
   ],
   "source": [
    "#QUES- 5 - Write a function to reverse a given string using a loop. For example, for the input \"hello\", the output should be \"olleh\".\n",
    "def reverse_string(s):\n",
    "    reversed_str = ''\n",
    "    for char in s:\n",
    "        reversed_str = char + reversed_str\n",
    "    return reversed_str\n",
    "\n",
    "input_string = \"hello\"\n",
    "print(reverse_string(input_string))\n"
   ]
  },
  {
   "cell_type": "code",
   "execution_count": 9,
   "id": "41c42f49-fd2c-4f68-b3ab-73034fd74965",
   "metadata": {},
   "outputs": [
    {
     "name": "stdout",
     "output_type": "stream",
     "text": [
      "True\n"
     ]
    }
   ],
   "source": [
    "#QUES - 6 - Write a function to check if a given string is a palindrome using a loop. For example, \"madam\" is a palindrome.\n",
    "def is_palindrome(s):\n",
    "    left = 0\n",
    "    right = len(s) - 1\n",
    "\n",
    "    while left < right:\n",
    "        if s[left] != s[right]:\n",
    "            return False \n",
    "        left += 1\n",
    "        right -= 1\n",
    "\n",
    "    return True \n",
    "input_string = \"madam\"\n",
    "print(is_palindrome(input_string))\n"
   ]
  },
  {
   "cell_type": "code",
   "execution_count": 10,
   "id": "87446d9f-677f-499f-99db-cc63acc0ef42",
   "metadata": {},
   "outputs": [
    {
     "name": "stdout",
     "output_type": "stream",
     "text": [
      "5 x 1 = 5\n",
      "5 x 2 = 10\n",
      "5 x 3 = 15\n",
      "5 x 4 = 20\n",
      "5 x 5 = 25\n",
      "5 x 6 = 30\n",
      "5 x 7 = 35\n",
      "5 x 8 = 40\n",
      "5 x 9 = 45\n",
      "5 x 10 = 50\n"
     ]
    }
   ],
   "source": [
    "#QUES - 7 - Write a function that prints the multiplication table for a given number n up to 10.\n",
    "def print_multiplication_table(n):\n",
    "    for i in range(1, 11):\n",
    "        print(f\"{n} x {i} = {n * i}\")\n",
    "\n",
    "n = 5\n",
    "print_multiplication_table(n)\n"
   ]
  },
  {
   "cell_type": "code",
   "execution_count": 11,
   "id": "19ebfd9b-212d-416e-9f2a-cce23e6ac2a9",
   "metadata": {},
   "outputs": [
    {
     "name": "stdout",
     "output_type": "stream",
     "text": [
      "8\n"
     ]
    }
   ],
   "source": [
    "#QUES - 8 - Write a function that finds the largest number in a list using a loop. For example, given [4, 7, 1, 8, 3], the output should be 8.\n",
    "def find_largest_number(lst):\n",
    "    if not lst:\n",
    "        return None\n",
    "\n",
    "    largest = lst[0]\n",
    "\n",
    "    for num in lst[1:]:\n",
    "        if num > largest:\n",
    "            largest = num\n",
    "\n",
    "    return largest\n",
    "\n",
    "numbers = [4, 7, 1, 8, 3]\n",
    "print(find_largest_number(numbers))\n"
   ]
  },
  {
   "cell_type": "code",
   "execution_count": 13,
   "id": "effb6983-4d56-42c7-81c7-df39a58eeae7",
   "metadata": {},
   "outputs": [
    {
     "name": "stdout",
     "output_type": "stream",
     "text": [
      "*\n",
      "**\n",
      "***\n",
      "****\n",
      "*****\n"
     ]
    }
   ],
   "source": [
    "#QUES - 9 - Write a function that prints a pattern of stars based on the number of rows provided. For example, if rows = 5, the output should be:\n",
    "#*\n",
    "#**\n",
    "#***\n",
    "#****\n",
    "#*****\n",
    "def print_star_pattern(rows):\n",
    "    for i in range(1, rows + 1):\n",
    "        print('*' * i)\n",
    "\n",
    "rows = 5\n",
    "print_star_pattern(rows)\n"
   ]
  },
  {
   "cell_type": "code",
   "execution_count": 15,
   "id": "e94e966f-a458-4609-af77-282525286aaf",
   "metadata": {},
   "outputs": [
    {
     "name": "stdout",
     "output_type": "stream",
     "text": [
      "Evens: [4, 8, 6]\n",
      "Odds: [7, 1, 3]\n"
     ]
    }
   ],
   "source": [
    "# QUES - 10 - Write a function that takes a list of integers and returns two lists: one containing all the even numbers and the other containing all the odd numbers.\n",
    "def separate_even_odd(numbers):\n",
    "    evens = []\n",
    "    odds = []\n",
    "\n",
    "    for num in numbers:\n",
    "        if num % 2 == 0:\n",
    "            evens.append(num)\n",
    "        else:\n",
    "            odds.append(num)\n",
    "\n",
    "    return evens, odds\n",
    "\n",
    "numbers = [4, 7, 1, 8, 3, 6]\n",
    "evens, odds = separate_even_odd(numbers)\n",
    "print(\"Evens:\", evens)\n",
    "print(\"Odds:\", odds)\n"
   ]
  },
  {
   "cell_type": "code",
   "execution_count": 17,
   "id": "a7671652-6242-4555-9b68-f3fecfbf4df1",
   "metadata": {},
   "outputs": [
    {
     "name": "stdout",
     "output_type": "stream",
     "text": [
      "{'vowels': 3, 'consonants': 7}\n"
     ]
    }
   ],
   "source": [
    "# QUES - 11 - Write a function that takes a string and returns the count of vowels and consonants. For example, for the input \"hello world\", the output should be {'vowels': 3, 'consonants': 7}.\n",
    "def count_vowels_consonants(s):\n",
    "    vowels = 'aeiouAEIOU'\n",
    "    vowel_count = 0\n",
    "    consonant_count = 0\n",
    "\n",
    "    for char in s:\n",
    "        if char.isalpha():\n",
    "            if char in vowels:\n",
    "                vowel_count += 1\n",
    "            else:\n",
    "                consonant_count += 1\n",
    "\n",
    "    return {'vowels': vowel_count, 'consonants': consonant_count}\n",
    "\n",
    "input_string = \"hello world\"\n",
    "result = count_vowels_consonants(input_string)\n",
    "print(result)\n"
   ]
  },
  {
   "cell_type": "code",
   "execution_count": 18,
   "id": "0b80bfd7-19c4-4df7-8855-fd87cc9558bb",
   "metadata": {},
   "outputs": [
    {
     "name": "stdout",
     "output_type": "stream",
     "text": [
      "1\n",
      "22\n",
      "333\n",
      "4444\n"
     ]
    }
   ],
   "source": [
    "# QUES - 12 - Write a function that prints a number pattern based on a given integer n. For example, for n = 4, the output should be:\n",
    "#1\n",
    "#22\n",
    "#333\n",
    "#4444\n",
    "def print_number_pattern(n):\n",
    "    for i in range(1, n + 1):\n",
    "        print(str(i) * i)\n",
    "n = 4\n",
    "print_number_pattern(n)\n"
   ]
  },
  {
   "cell_type": "code",
   "execution_count": 19,
   "id": "40eb3ef8-d033-4537-872f-e6f378d4f407",
   "metadata": {},
   "outputs": [
    {
     "name": "stdout",
     "output_type": "stream",
     "text": [
      "3 6 9 12 15 18 \n"
     ]
    }
   ],
   "source": [
    "# QUES - 13 - Write a function that prints all multiples of a given number up to a specified limit. For example, for num = 3 and limit = 20, the output should be 3, 6, 9, 12, 15, 18.\n",
    "def print_multiples(num, limit):\n",
    "    multiple = num\n",
    "    while multiple <= limit:\n",
    "        print(multiple, end=' ')\n",
    "        multiple += num\n",
    "    print()\n",
    "\n",
    "num = 3\n",
    "limit = 20\n",
    "print_multiples(num, limit)\n"
   ]
  },
  {
   "cell_type": "code",
   "execution_count": 20,
   "id": "50003d16-eec8-47fb-bc71-6800c5113fe1",
   "metadata": {},
   "outputs": [
    {
     "name": "stdout",
     "output_type": "stream",
     "text": [
      "(12, 9)\n"
     ]
    }
   ],
   "source": [
    "# QUES - 14 -Write a function that takes a list of integers and returns a tuple with the sum of even numbers and the sum of odd numbers. For example, for the list [1, 2, 3, 4, 5, 6], the output should be (12, 9).\n",
    "def sum_even_odd(numbers):\n",
    "    sum_even = 0\n",
    "    sum_odd = 0\n",
    "\n",
    "    for num in numbers:\n",
    "        if num % 2 == 0:\n",
    "            sum_even += num\n",
    "        else:\n",
    "            sum_odd += num\n",
    "\n",
    "    return (sum_even, sum_odd)\n",
    "\n",
    "numbers = [1, 2, 3, 4, 5, 6]\n",
    "result = sum_even_odd(numbers)\n",
    "print(result)\n"
   ]
  },
  {
   "cell_type": "code",
   "execution_count": null,
   "id": "16ab4a87-ec80-4d45-ad6d-f7b37117c967",
   "metadata": {},
   "outputs": [],
   "source": []
  }
 ],
 "metadata": {
  "kernelspec": {
   "display_name": "Python 3 (ipykernel)",
   "language": "python",
   "name": "python3"
  },
  "language_info": {
   "codemirror_mode": {
    "name": "ipython",
    "version": 3
   },
   "file_extension": ".py",
   "mimetype": "text/x-python",
   "name": "python",
   "nbconvert_exporter": "python",
   "pygments_lexer": "ipython3",
   "version": "3.12.4"
  }
 },
 "nbformat": 4,
 "nbformat_minor": 5
}
